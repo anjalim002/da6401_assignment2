{
  "nbformat": 4,
  "nbformat_minor": 0,
  "metadata": {
    "colab": {
      "provenance": [],
      "gpuType": "T4"
    },
    "kernelspec": {
      "name": "python3",
      "display_name": "Python 3"
    },
    "language_info": {
      "name": "python"
    },
    "accelerator": "GPU"
  },
  "cells": [
    {
      "cell_type": "code",
      "execution_count": null,
      "metadata": {
        "id": "Oj0kQYvcF3ec"
      },
      "outputs": [],
      "source": [
        "import torch\n",
        "from torchvision import datasets, transforms, models\n",
        "from torch.utils.data import DataLoader, Subset\n",
        "import numpy as np\n",
        "from sklearn.utils import shuffle # for shuffling\n",
        "import os\n",
        "import cv2\n",
        "import random\n",
        "import torch.nn as nn\n",
        "import torch.optim as optim\n",
        "from tqdm import tqdm\n",
        "\n",
        "from sklearn.model_selection import train_test_split\n",
        "import gc\n",
        "\n"
      ]
    },
    {
      "cell_type": "code",
      "source": [
        "!wget https://storage.googleapis.com/wandb_datasets/nature_12K.zip -O nature_12K.zip\n",
        "!unzip -q nature_12K.zip"
      ],
      "metadata": {
        "colab": {
          "base_uri": "https://localhost:8080/"
        },
        "id": "MG-Z1qIXGB6E",
        "outputId": "926cb5b2-8083-4da3-d2ed-27939e95ada4"
      },
      "execution_count": null,
      "outputs": [
        {
          "output_type": "stream",
          "name": "stdout",
          "text": [
            "--2025-04-19 11:29:12--  https://storage.googleapis.com/wandb_datasets/nature_12K.zip\n",
            "Resolving storage.googleapis.com (storage.googleapis.com)... 142.251.107.207, 74.125.196.207, 74.125.134.207, ...\n",
            "Connecting to storage.googleapis.com (storage.googleapis.com)|142.251.107.207|:443... connected.\n",
            "HTTP request sent, awaiting response... 200 OK\n",
            "Length: 3816687935 (3.6G) [application/zip]\n",
            "Saving to: ‘nature_12K.zip’\n",
            "\n",
            "nature_12K.zip      100%[===================>]   3.55G   112MB/s    in 36s     \n",
            "\n",
            "2025-04-19 11:29:47 (102 MB/s) - ‘nature_12K.zip’ saved [3816687935/3816687935]\n",
            "\n"
          ]
        }
      ]
    },
    {
      "cell_type": "code",
      "source": [
        "dtype = torch.float\n",
        "device = \"cuda\" if torch.cuda.is_available() else \"cpu\""
      ],
      "metadata": {
        "id": "xKOamGulGGYp"
      },
      "execution_count": null,
      "outputs": []
    },
    {
      "cell_type": "markdown",
      "source": [
        "Using restnet as it has  separate modules thhat can be  separately freezed also  it has good similarity to imagenet\n",
        "\n",
        "Accuracy iis okay okay annd  no  of params is also okay okay"
      ],
      "metadata": {
        "id": "H5KuJ8hUGOTQ"
      }
    },
    {
      "cell_type": "code",
      "source": [
        "\n",
        "# Define class labels for iNaturalist dataset\n",
        "classesList = [\"Amphibia\", \"Animalia\", \"Arachnida\", \"Aves\", \"Fungi\", \"Insecta\", \"Mammalia\", \"Mollusca\", \"Plantae\", \"Reptilia\"]\n",
        "\n",
        "\n",
        "# ResNet50 expects 224x224 images, so we resize all input images\n",
        "transform = transforms.Compose([\n",
        "    transforms.Resize((224, 224)),  # Resize to match ImageNet dimensions\n",
        "    transforms.ToTensor(),\n",
        "    transforms.Normalize(mean=[0.485, 0.456, 0.406], std=[0.229, 0.224, 0.225])  # ImageNet normalization\n",
        "])\n",
        "\n",
        "\n",
        "def prepare_data(data_dir, batch_size=32):\n",
        "    # Load training data\n",
        "    train_dataset = datasets.ImageFolder(root=os.path.join(data_dir, 'train'), transform=transform)\n",
        "\n",
        "    # Create stratified train/validation split from training data\n",
        "    train_indices, val_indices = [], []\n",
        "\n",
        "\n",
        "    for class_idx in range(len(train_dataset.classes)):\n",
        "\n",
        "        class_indices = [i for i, (_, label) in enumerate(train_dataset.samples) if label == class_idx]\n",
        "\n",
        "        class_train_idx, class_val_idx = train_test_split(\n",
        "            class_indices,\n",
        "            test_size=0.2,\n",
        "            random_state=42\n",
        "        )\n",
        "\n",
        "\n",
        "        train_indices.extend(class_train_idx)\n",
        "        val_indices.extend(class_val_idx)\n",
        "\n",
        "    # Create data subsets\n",
        "    train_subset = Subset(train_dataset, train_indices)\n",
        "    val_subset = Subset(train_dataset, val_indices)\n",
        "\n",
        "    # Create loaders\n",
        "    train_loader = DataLoader(train_subset, batch_size=batch_size, shuffle=True, num_workers=2)\n",
        "    val_loader = DataLoader(val_subset, batch_size=batch_size, shuffle=False, num_workers=2)\n",
        "\n",
        "    # Test data - using the val folder strictly for testing only\n",
        "    test_dataset = datasets.ImageFolder(root=os.path.join(data_dir, 'val'), transform=transform)\n",
        "    test_loader = DataLoader(test_dataset, batch_size=batch_size, shuffle=False, num_workers=2)\n",
        "\n",
        "    print(f\"Training set size: {len(train_subset)} images\")\n",
        "    print(f\"Validation set size: {len(val_subset)} images\")\n",
        "    print(f\"Test set size: {len(test_dataset)} images\")\n",
        "\n",
        "    return train_loader, val_loader, test_loader\n",
        "\n",
        "# Prepare dataloaders\n",
        "train_loader, val_loader, test_loader = prepare_data('inaturalist_12K', batch_size=32)\n",
        "print(f\"Number of training batches: {len(train_loader)}\")\n",
        "print(f\"Number of validation batches: {len(val_loader)}\")\n",
        "print(f\"Number of test batches: {len(test_loader)}\")\n",
        "\n",
        "# Print class distribution\n",
        "def print_class_distribution(dataloader, title):\n",
        "    class_counts = {i: 0 for i in range(len(classesList))}\n",
        "    for _, labels in dataloader:\n",
        "        for label in labels:\n",
        "            class_counts[label.item()] += 1\n",
        "\n",
        "    print(f\"\\n{title} class distribution:\")\n",
        "    for i, count in class_counts.items():\n",
        "        print(f\"{classesList[i]}: {count} images\")\n",
        "\n",
        "# Check distribution for train and validation sets\n",
        "print_class_distribution(train_loader, \"Training\")\n",
        "print_class_distribution(val_loader, \"Validation\")"
      ],
      "metadata": {
        "colab": {
          "base_uri": "https://localhost:8080/"
        },
        "id": "HQ6qOEHTGNWd",
        "outputId": "7ea46e96-6422-4212-af9c-f482908266a5"
      },
      "execution_count": null,
      "outputs": [
        {
          "output_type": "stream",
          "name": "stdout",
          "text": [
            "Training set size: 7999 images\n",
            "Validation set size: 2000 images\n",
            "Test set size: 2000 images\n",
            "Number of training batches: 250\n",
            "Number of validation batches: 63\n",
            "Number of test batches: 63\n",
            "\n",
            "Training class distribution:\n",
            "Amphibia: 800 images\n",
            "Animalia: 800 images\n",
            "Arachnida: 800 images\n",
            "Aves: 800 images\n",
            "Fungi: 799 images\n",
            "Insecta: 800 images\n",
            "Mammalia: 800 images\n",
            "Mollusca: 800 images\n",
            "Plantae: 800 images\n",
            "Reptilia: 800 images\n",
            "\n",
            "Validation class distribution:\n",
            "Amphibia: 200 images\n",
            "Animalia: 200 images\n",
            "Arachnida: 200 images\n",
            "Aves: 200 images\n",
            "Fungi: 200 images\n",
            "Insecta: 200 images\n",
            "Mammalia: 200 images\n",
            "Mollusca: 200 images\n",
            "Plantae: 200 images\n",
            "Reptilia: 200 images\n"
          ]
        }
      ]
    },
    {
      "cell_type": "code",
      "source": [
        "\n",
        "!pip install wandb --quiet\n",
        "import wandb\n",
        "wandb.login(key=\"xxxxxxxxxxxxxxxxxxxxxxxxxxxxxxxxxxxxxxxxxxxx\")\n",
        "\n",
        "import matplotlib as plt"
      ],
      "metadata": {
        "colab": {
          "base_uri": "https://localhost:8080/"
        },
        "id": "yy9199xwK1S6",
        "outputId": "5dd46796-a83b-4217-e032-7a42c0571e05"
      },
      "execution_count": null,
      "outputs": [
        {
          "output_type": "stream",
          "name": "stderr",
          "text": [
            "\u001b[34m\u001b[1mwandb\u001b[0m: Using wandb-core as the SDK backend.  Please refer to https://wandb.me/wandb-core for more information.\n",
            "\u001b[34m\u001b[1mwandb\u001b[0m: \u001b[33mWARNING\u001b[0m If you're specifying your api key in code, ensure this code is not shared publicly.\n",
            "\u001b[34m\u001b[1mwandb\u001b[0m: \u001b[33mWARNING\u001b[0m Consider setting the WANDB_API_KEY environment variable, or running `wandb login` from the command line.\n",
            "\u001b[34m\u001b[1mwandb\u001b[0m: No netrc file found, creating one.\n",
            "\u001b[34m\u001b[1mwandb\u001b[0m: Appending key for api.wandb.ai to your netrc file: /root/.netrc\n",
            "\u001b[34m\u001b[1mwandb\u001b[0m: Currently logged in as: \u001b[33mda24m002\u001b[0m (\u001b[33mda24m002-indian-institute-of-technology-madras\u001b[0m) to \u001b[32mhttps://api.wandb.ai\u001b[0m. Use \u001b[1m`wandb login --relogin`\u001b[0m to force relogin\n"
          ]
        }
      ]
    },
    {
      "cell_type": "markdown",
      "source": [
        "First  I am using the stratergy of freeze all layers except last."
      ],
      "metadata": {
        "id": "jXqyW0_zbK09"
      }
    },
    {
      "cell_type": "code",
      "source": [
        "# Handle the mismatch between ImageNet's 1000 classes and iNaturalist's 10 classes\n",
        "# Implementing different fine-tuning strategies\n",
        "\n",
        "class ModelStrategy:\n",
        "    def __init__(self, strategy_name='full'):\n",
        "        self.strategy_name = strategy_name\n",
        "\n",
        "    def setup_model(self):\n",
        "        # Load pretrained ResNet50\n",
        "        model = models.resnet50(pretrained=True)\n",
        "\n",
        "        # Strategy 1: Freeze all layers and only train the new classification head\n",
        "        if self.strategy_name == 'freeze_all_except_last':\n",
        "            # Freeze all parameters in the model\n",
        "            for param in model.parameters():\n",
        "                param.requires_grad = False\n",
        "\n",
        "            # Replace the final fully connected layer for 10 classes\n",
        "            num_features = model.fc.in_features\n",
        "            model.fc = nn.Linear(num_features, 10)\n",
        "\n",
        "        # # Strategy 2: Freeze only a certain number of early layers\n",
        "        # elif self.strategy_name == 'freeze_early_layers':\n",
        "        #     # Freeze the first 6 layers (conv1, bn1, and 4 layer1 blocks)\n",
        "        #     layers_to_freeze = list(model.children())[:6]\n",
        "        #     for layer in layers_to_freeze:\n",
        "        #         for param in layer.parameters():\n",
        "        #             param.requires_grad = False\n",
        "\n",
        "        #     # Replace final FC layer\n",
        "        #     num_features = model.fc.in_features\n",
        "        #     model.fc = nn.Linear(num_features, 10)\n",
        "        elif self.strategy_name == 'freeze_early_layers':\n",
        "            # Get all layers in the model\n",
        "            all_layers = list(model.children())\n",
        "\n",
        "            # Freeze the first 20 layers instead of just 6\n",
        "            # ResNet50 has a more complex structure with nested layers\n",
        "            # To freeze approximately 20 layers, we need to go deeper into the model structure\n",
        "\n",
        "            # First, freeze the initial layers (conv1, bn1, relu, maxpool)\n",
        "            for layer in all_layers[:4]:\n",
        "                for param in layer.parameters():\n",
        "                    param.requires_grad = False\n",
        "\n",
        "            # Then freeze layers in layer1, layer2, layer3 (these are sequential blocks that contain multiple layers each)\n",
        "            for block_idx in range(4, 7):  # This targets layer1, layer2, layer3\n",
        "                block = all_layers[block_idx]\n",
        "                for sublayer in block:  # Each block contains multiple bottleneck/basic blocks\n",
        "                    for param in sublayer.parameters():\n",
        "                        param.requires_grad = False\n",
        "\n",
        "            # Replace final FC layer\n",
        "            num_features = model.fc.in_features\n",
        "            model.fc = nn.Linear(num_features, 10)\n",
        "\n",
        "        # Strategy 3: Progressive unfreezing (initially freeze all, then gradually unfreeze)\n",
        "        elif self.strategy_name == 'progressive_unfreeze':\n",
        "            # Initially freeze all layers\n",
        "            for param in model.parameters():\n",
        "                param.requires_grad = False\n",
        "\n",
        "            # Replace final FC layer\n",
        "            num_features = model.fc.in_features\n",
        "            model.fc = nn.Linear(num_features, 10)\n",
        "\n",
        "            # Note: We'll unfreeze progressively during training\n",
        "            self.model_layers = list(model.children())\n",
        "\n",
        "        # Strategy 4: Use lower learning rate for pretrained layers and higher for new layers\n",
        "        elif self.strategy_name == 'differential_learning_rates':\n",
        "            # Replace final FC layer\n",
        "            num_features = model.fc.in_features\n",
        "            model.fc = nn.Linear(num_features, 10)\n",
        "\n",
        "            # All parameters will be trainable but with different learning rates\n",
        "            # We'll handle this in the optimizer setup\n",
        "\n",
        "        # Strategy 5: Full fine-tuning (train all parameters, no freezing)\n",
        "        else:\n",
        "            # Replace final FC layer\n",
        "            num_features = model.fc.in_features\n",
        "            model.fc = nn.Linear(num_features, 10)\n",
        "            # No freezing - all parameters will be trained\n",
        "\n",
        "        return model.to(device)\n",
        "\n",
        "    def get_param_groups(self, model, base_lr=0.001):\n",
        "        \"\"\"For differential learning rates strategy\"\"\"\n",
        "        if self.strategy_name == 'differential_learning_rates':\n",
        "            # Group parameters: pretrained layers get lower lr, new layers get higher lr\n",
        "            pretrained_params = []\n",
        "            new_params = []\n",
        "\n",
        "            for name, param in model.named_parameters():\n",
        "                if 'fc' in name:  # New layer parameters\n",
        "                    new_params.append(param)\n",
        "                else:  # Pretrained layer parameters\n",
        "                    pretrained_params.append(param)\n",
        "\n",
        "            param_groups = [\n",
        "                {'params': pretrained_params, 'lr': base_lr * 0.1},  # Lower LR for pretrained\n",
        "                {'params': new_params, 'lr': base_lr}                # Higher LR for new\n",
        "            ]\n",
        "            return param_groups\n",
        "        else:\n",
        "            return model.parameters()\n",
        "\n",
        "    def progressive_unfreeze_step(self, model, current_epoch, total_epochs):\n",
        "        \"\"\"For progressive unfreezing strategy\"\"\"\n",
        "        if self.strategy_name == 'progressive_unfreeze' and current_epoch > 0:\n",
        "            # Calculate how many layers to unfreeze based on current epoch\n",
        "            # Unfreeze from back to front (deep to shallow)\n",
        "            layers_to_unfreeze = int((current_epoch / total_epochs) * len(self.model_layers))\n",
        "\n",
        "            # Start unfreezing from the end (excluding the FC layer which is always trainable)\n",
        "            for i in range(len(self.model_layers) - 1, len(self.model_layers) - 1 - layers_to_unfreeze, -1):\n",
        "                if i >= 0:\n",
        "                    for param in self.model_layers[i].parameters():\n",
        "                        param.requires_grad = True\n",
        "\n",
        "# Choosing one of the fine-tuning strategies\n",
        "# 'freeze_all_except_last', 'freeze_early_layers', 'progressive_unfreeze', 'differential_learning_rates', 'full'\n",
        "\n",
        "chosen_strategy = 'freeze_all_except_last'\n",
        "# chosen_strategy = 'progressive_unfreeze'\n",
        "model_strategy = ModelStrategy(chosen_strategy)\n",
        "model = model_strategy.setup_model()\n",
        "\n",
        "# Print model summary\n",
        "total_params = sum(p.numel() for p in model.parameters())\n",
        "trainable_params = sum(p.numel() for p in model.parameters() if p.requires_grad)\n",
        "print(f\"Total parameters: {total_params:,}\")\n",
        "print(f\"Trainable parameters: {trainable_params:,}\")\n",
        "print(f\"Fixed parameters: {total_params - trainable_params:,}\")\n",
        "print(f\"Strategy used: {chosen_strategy}\")"
      ],
      "metadata": {
        "colab": {
          "base_uri": "https://localhost:8080/"
        },
        "id": "oW5diHPsHCKl",
        "outputId": "e19e3cfc-ebab-4fe6-d0fa-48ae832490e3"
      },
      "execution_count": null,
      "outputs": [
        {
          "output_type": "stream",
          "name": "stderr",
          "text": [
            "/usr/local/lib/python3.11/dist-packages/torchvision/models/_utils.py:208: UserWarning: The parameter 'pretrained' is deprecated since 0.13 and may be removed in the future, please use 'weights' instead.\n",
            "  warnings.warn(\n",
            "/usr/local/lib/python3.11/dist-packages/torchvision/models/_utils.py:223: UserWarning: Arguments other than a weight enum or `None` for 'weights' are deprecated since 0.13 and may be removed in the future. The current behavior is equivalent to passing `weights=ResNet50_Weights.IMAGENET1K_V1`. You can also use `weights=ResNet50_Weights.DEFAULT` to get the most up-to-date weights.\n",
            "  warnings.warn(msg)\n",
            "Downloading: \"https://download.pytorch.org/models/resnet50-0676ba61.pth\" to /root/.cache/torch/hub/checkpoints/resnet50-0676ba61.pth\n",
            "100%|██████████| 97.8M/97.8M [00:01<00:00, 100MB/s]\n"
          ]
        },
        {
          "output_type": "stream",
          "name": "stdout",
          "text": [
            "Total parameters: 23,528,522\n",
            "Trainable parameters: 20,490\n",
            "Fixed parameters: 23,508,032\n",
            "Strategy used: freeze_all_except_last\n"
          ]
        }
      ]
    },
    {
      "cell_type": "code",
      "source": [
        "# Training and evaluation functions\n",
        "import matplotlib.pyplot as plt\n",
        "\n",
        "def train_model(model, dataloaders, criterion, optimizer, num_epochs=10, strategy=None):\n",
        "    \"\"\"Train the model with the given dataloaders, criterion, and optimizer\"\"\"\n",
        "    train_losses = []\n",
        "    val_losses = []\n",
        "    train_accs = []\n",
        "    val_accs = []\n",
        "    best_acc = 0.0\n",
        "\n",
        "    # Initialize wandb for tracking experiments\n",
        "    wandb.login()\n",
        "    wandb.init(project=\"DA6401_A2_PartA\", name=f\"ResNet50-{strategy.strategy_name}\")\n",
        "    wandb.config.update({\n",
        "        \"model\": \"ResNet50\",\n",
        "        \"strategy\": strategy.strategy_name,\n",
        "        \"epochs\": num_epochs\n",
        "    })\n",
        "\n",
        "    for epoch in range(num_epochs):\n",
        "        print(f'Epoch {epoch+1}/{num_epochs}')\n",
        "        print('-' * 10)\n",
        "\n",
        "        # Each epoch has a training and validation phase\n",
        "        for phase in ['train', 'val']:\n",
        "            if phase == 'train':\n",
        "                model.train()  # Set model to training mode\n",
        "                dataloader = dataloaders['train']\n",
        "\n",
        "                # For progressive unfreezing, update which layers are frozen\n",
        "                if strategy.strategy_name == 'progressive_unfreeze':\n",
        "                    strategy.progressive_unfreeze_step(model, epoch, num_epochs)\n",
        "\n",
        "                    # Log how many parameters are now trainable\n",
        "                    trainable_params = sum(p.numel() for p in model.parameters() if p.requires_grad)\n",
        "                    print(f\"Epoch {epoch+1}: Trainable parameters: {trainable_params:,}\")\n",
        "                    wandb.log({\"trainable_params\": trainable_params}, step=epoch)\n",
        "            else:\n",
        "                model.eval()   # Set model to evaluate mode\n",
        "                dataloader = dataloaders['val']\n",
        "\n",
        "            running_loss = 0.0\n",
        "            running_corrects = 0\n",
        "\n",
        "            # Iterate over data\n",
        "            for inputs, labels in tqdm(dataloader, desc=phase):\n",
        "                inputs = inputs.to(device)\n",
        "                labels = labels.to(device)\n",
        "\n",
        "                # Zero the parameter gradients\n",
        "                optimizer.zero_grad()\n",
        "\n",
        "                # Forward pass - only track history in train\n",
        "                with torch.set_grad_enabled(phase == 'train'):\n",
        "                    outputs = model(inputs)\n",
        "                    _, preds = torch.max(outputs, 1)\n",
        "                    loss = criterion(outputs, labels)\n",
        "\n",
        "                    # Backward + optimize only in training phase\n",
        "                    if phase == 'train':\n",
        "                        loss.backward()\n",
        "                        optimizer.step()\n",
        "\n",
        "                # Statistics\n",
        "                running_loss += loss.item() * inputs.size(0)\n",
        "                running_corrects += torch.sum(preds == labels.data)\n",
        "\n",
        "            epoch_loss = running_loss / len(dataloader.dataset)\n",
        "            epoch_acc = running_corrects.double() / len(dataloader.dataset)\n",
        "\n",
        "            print(f'{phase} Loss: {epoch_loss:.4f} Acc: {epoch_acc:.4f}')\n",
        "\n",
        "            # Log metrics to wandb\n",
        "            wandb.log({f\"{phase}_loss\": epoch_loss,\n",
        "                       f\"{phase}_accuracy\": epoch_acc}, step=epoch)\n",
        "\n",
        "            # Track metrics\n",
        "            if phase == 'train':\n",
        "                train_losses.append(epoch_loss)\n",
        "                train_accs.append(epoch_acc.item())\n",
        "            else:\n",
        "                val_losses.append(epoch_loss)\n",
        "                val_accs.append(epoch_acc.item())\n",
        "\n",
        "                # Save the best model\n",
        "                if epoch_acc > best_acc:\n",
        "                    best_acc = epoch_acc\n",
        "                    torch.save(model.state_dict(), f'best_model_{strategy.strategy_name}.pth')\n",
        "                    print(f'New best validation accuracy: {best_acc:.4f}')\n",
        "\n",
        "    wandb.finish()\n",
        "    print(f'Best validation Acc: {best_acc:.4f}')\n",
        "\n",
        "    return model, train_losses, val_losses, train_accs, val_accs\n",
        "\n",
        "def evaluate_model(model, dataloader):\n",
        "    \"\"\"Evaluate the model on the given dataloader\"\"\"\n",
        "    model.eval()\n",
        "    running_corrects = 0\n",
        "\n",
        "    with torch.no_grad():\n",
        "        for inputs, labels in tqdm(dataloader, desc='Evaluating'):\n",
        "            inputs = inputs.to(device)\n",
        "            labels = labels.to(device)\n",
        "\n",
        "            outputs = model(inputs)\n",
        "            _, preds = torch.max(outputs, 1)\n",
        "\n",
        "            running_corrects += torch.sum(preds == labels.data)\n",
        "\n",
        "    acc = running_corrects.double() / len(dataloader.dataset)\n",
        "    print(f'Test Accuracy: {acc:.4f}')\n",
        "\n",
        "    return acc.item()"
      ],
      "metadata": {
        "id": "EYHJRw6xTe1a"
      },
      "execution_count": null,
      "outputs": []
    },
    {
      "cell_type": "code",
      "source": [
        "# Initialize criterion and optimizer\n",
        "criterion = nn.CrossEntropyLoss()\n",
        "\n",
        "# Get parameter groups (for differential learning rates if needed)\n",
        "param_groups = model_strategy.get_param_groups(model, base_lr=0.001)\n",
        "\n",
        "# Choose optimizer\n",
        "if chosen_strategy == 'differential_learning_rates':\n",
        "    # For this strategy,parameter groups with different learning rates has been created\n",
        "    optimizer = optim.Adam(param_groups, weight_decay=0.0001)\n",
        "else:\n",
        "    optimizer = optim.Adam(param_groups, lr=0.001, weight_decay=0.0001)\n",
        "\n",
        "# Prepare dataloaders dictionary\n",
        "dataloaders = {\n",
        "    'train': train_loader,\n",
        "    'val': val_loader,\n",
        "    'test': test_loader\n",
        "}\n",
        "\n",
        "# Train the model\n",
        "model, train_losses, val_losses, train_accs, val_accs = train_model(\n",
        "    model,\n",
        "    dataloaders,\n",
        "    criterion,\n",
        "    optimizer,\n",
        "    num_epochs=2,\n",
        "    strategy=model_strategy\n",
        ")\n",
        "\n",
        "# plotting after training is complete\n",
        "try:\n",
        "    import matplotlib.pyplot as plt\n",
        "\n",
        "    # Plot training history\n",
        "    plt.figure(figsize=(12, 5))\n",
        "    plt.subplot(1, 2, 1)\n",
        "    plt.plot(train_losses, label='Train')\n",
        "    plt.plot(val_losses, label='Validation')\n",
        "    plt.title('Loss')\n",
        "    plt.legend()\n",
        "\n",
        "    plt.subplot(1, 2, 2)\n",
        "    plt.plot(train_accs, label='Train')\n",
        "    plt.plot(val_accs, label='Validation')\n",
        "    plt.title('Accuracy')\n",
        "    plt.legend()\n",
        "    plt.tight_layout()\n",
        "    plt.show()\n",
        "except Exception as e:\n",
        "    print(f\"Could not create plots: {e}\")\n",
        "    print(\"Continuing without plotting...\")\n",
        "\n",
        "# Evaluate the best model on test data\n",
        "print(\"\\nEvaluating best model on test data...\")\n",
        "model.load_state_dict(torch.load(f'best_model_{chosen_strategy}.pth'))\n",
        "test_acc = evaluate_model(model, test_loader)\n",
        "print(f\"Final test accuracy: {test_acc:.4f}\")"
      ],
      "metadata": {
        "colab": {
          "base_uri": "https://localhost:8080/",
          "height": 1000
        },
        "id": "gAAncymDTfRx",
        "outputId": "06e7f1cb-96b9-4a17-8784-76c2db419abf"
      },
      "execution_count": null,
      "outputs": [
        {
          "output_type": "display_data",
          "data": {
            "text/plain": [
              "<IPython.core.display.HTML object>"
            ],
            "text/html": [
              "Tracking run with wandb version 0.19.9"
            ]
          },
          "metadata": {}
        },
        {
          "output_type": "display_data",
          "data": {
            "text/plain": [
              "<IPython.core.display.HTML object>"
            ],
            "text/html": [
              "Run data is saved locally in <code>/content/wandb/run-20250419_113506-3duvjlha</code>"
            ]
          },
          "metadata": {}
        },
        {
          "output_type": "display_data",
          "data": {
            "text/plain": [
              "<IPython.core.display.HTML object>"
            ],
            "text/html": [
              "Syncing run <strong><a href='https://wandb.ai/da24m002-indian-institute-of-technology-madras/DA6401_A2_PartA/runs/3duvjlha' target=\"_blank\">ResNet50-freeze_all_except_last</a></strong> to <a href='https://wandb.ai/da24m002-indian-institute-of-technology-madras/DA6401_A2_PartA' target=\"_blank\">Weights & Biases</a> (<a href='https://wandb.me/developer-guide' target=\"_blank\">docs</a>)<br>"
            ]
          },
          "metadata": {}
        },
        {
          "output_type": "display_data",
          "data": {
            "text/plain": [
              "<IPython.core.display.HTML object>"
            ],
            "text/html": [
              " View project at <a href='https://wandb.ai/da24m002-indian-institute-of-technology-madras/DA6401_A2_PartA' target=\"_blank\">https://wandb.ai/da24m002-indian-institute-of-technology-madras/DA6401_A2_PartA</a>"
            ]
          },
          "metadata": {}
        },
        {
          "output_type": "display_data",
          "data": {
            "text/plain": [
              "<IPython.core.display.HTML object>"
            ],
            "text/html": [
              " View run at <a href='https://wandb.ai/da24m002-indian-institute-of-technology-madras/DA6401_A2_PartA/runs/3duvjlha' target=\"_blank\">https://wandb.ai/da24m002-indian-institute-of-technology-madras/DA6401_A2_PartA/runs/3duvjlha</a>"
            ]
          },
          "metadata": {}
        },
        {
          "output_type": "stream",
          "name": "stdout",
          "text": [
            "Epoch 1/2\n",
            "----------\n"
          ]
        },
        {
          "output_type": "stream",
          "name": "stderr",
          "text": [
            "train: 100%|██████████| 250/250 [01:36<00:00,  2.59it/s]\n"
          ]
        },
        {
          "output_type": "stream",
          "name": "stdout",
          "text": [
            "train Loss: 1.1441 Acc: 0.6200\n"
          ]
        },
        {
          "output_type": "stream",
          "name": "stderr",
          "text": [
            "val: 100%|██████████| 63/63 [00:21<00:00,  2.97it/s]\n"
          ]
        },
        {
          "output_type": "stream",
          "name": "stdout",
          "text": [
            "val Loss: 0.8251 Acc: 0.7395\n",
            "New best validation accuracy: 0.7395\n",
            "Epoch 2/2\n",
            "----------\n"
          ]
        },
        {
          "output_type": "stream",
          "name": "stderr",
          "text": [
            "train: 100%|██████████| 250/250 [01:32<00:00,  2.71it/s]\n"
          ]
        },
        {
          "output_type": "stream",
          "name": "stdout",
          "text": [
            "train Loss: 0.8367 Acc: 0.7240\n"
          ]
        },
        {
          "output_type": "stream",
          "name": "stderr",
          "text": [
            "val: 100%|██████████| 63/63 [00:22<00:00,  2.78it/s]\n"
          ]
        },
        {
          "output_type": "stream",
          "name": "stdout",
          "text": [
            "val Loss: 0.7798 Acc: 0.7490\n",
            "New best validation accuracy: 0.7490\n"
          ]
        },
        {
          "output_type": "display_data",
          "data": {
            "text/plain": [
              "<IPython.core.display.HTML object>"
            ],
            "text/html": []
          },
          "metadata": {}
        },
        {
          "output_type": "display_data",
          "data": {
            "text/plain": [
              "<IPython.core.display.HTML object>"
            ],
            "text/html": [
              "<br>    <style><br>        .wandb-row {<br>            display: flex;<br>            flex-direction: row;<br>            flex-wrap: wrap;<br>            justify-content: flex-start;<br>            width: 100%;<br>        }<br>        .wandb-col {<br>            display: flex;<br>            flex-direction: column;<br>            flex-basis: 100%;<br>            flex: 1;<br>            padding: 10px;<br>        }<br>    </style><br><div class=\"wandb-row\"><div class=\"wandb-col\"><h3>Run history:</h3><br/><table class=\"wandb\"><tr><td>train_accuracy</td><td>▁█</td></tr><tr><td>train_loss</td><td>█▁</td></tr><tr><td>val_accuracy</td><td>▁█</td></tr><tr><td>val_loss</td><td>█▁</td></tr></table><br/></div><div class=\"wandb-col\"><h3>Run summary:</h3><br/><table class=\"wandb\"><tr><td>train_accuracy</td><td>0.72397</td></tr><tr><td>train_loss</td><td>0.83667</td></tr><tr><td>val_accuracy</td><td>0.749</td></tr><tr><td>val_loss</td><td>0.77977</td></tr></table><br/></div></div>"
            ]
          },
          "metadata": {}
        },
        {
          "output_type": "display_data",
          "data": {
            "text/plain": [
              "<IPython.core.display.HTML object>"
            ],
            "text/html": [
              " View run <strong style=\"color:#cdcd00\">ResNet50-freeze_all_except_last</strong> at: <a href='https://wandb.ai/da24m002-indian-institute-of-technology-madras/DA6401_A2_PartA/runs/3duvjlha' target=\"_blank\">https://wandb.ai/da24m002-indian-institute-of-technology-madras/DA6401_A2_PartA/runs/3duvjlha</a><br> View project at: <a href='https://wandb.ai/da24m002-indian-institute-of-technology-madras/DA6401_A2_PartA' target=\"_blank\">https://wandb.ai/da24m002-indian-institute-of-technology-madras/DA6401_A2_PartA</a><br>Synced 5 W&B file(s), 0 media file(s), 0 artifact file(s) and 0 other file(s)"
            ]
          },
          "metadata": {}
        },
        {
          "output_type": "display_data",
          "data": {
            "text/plain": [
              "<IPython.core.display.HTML object>"
            ],
            "text/html": [
              "Find logs at: <code>./wandb/run-20250419_113506-3duvjlha/logs</code>"
            ]
          },
          "metadata": {}
        },
        {
          "output_type": "stream",
          "name": "stdout",
          "text": [
            "Best validation Acc: 0.7490\n"
          ]
        },
        {
          "output_type": "display_data",
          "data": {
            "text/plain": [
              "<Figure size 1200x500 with 2 Axes>"
            ],
            "image/png": "[encoded data removed]"
          },
          "metadata": {}
        },
        {
          "output_type": "stream",
          "name": "stdout",
          "text": [
            "\n",
            "Evaluating best model on test data...\n"
          ]
        },
        {
          "output_type": "stream",
          "name": "stderr",
          "text": [
            "Evaluating: 100%|██████████| 63/63 [00:20<00:00,  3.12it/s]"
          ]
        },
        {
          "output_type": "stream",
          "name": "stdout",
          "text": [
            "Test Accuracy: 0.7415\n",
            "Final test accuracy: 0.7415\n"
          ]
        },
        {
          "output_type": "stream",
          "name": "stderr",
          "text": [
            "\n"
          ]
        }
      ]
    },
    {
      "cell_type": "markdown",
      "source": [
        "Finally using freeze initial  layers(20)"
      ],
      "metadata": {
        "id": "MYS3m9bAbiHO"
      }
    },
    {
      "cell_type": "code",
      "source": [
        "# Handle the mismatch between ImageNet's 1000 classes and iNaturalist's 10 classes\n",
        "# Implementing different fine-tuning strategies\n",
        "\n",
        "class ModelStrategy:\n",
        "    def __init__(self, strategy_name='full'):\n",
        "        self.strategy_name = strategy_name\n",
        "\n",
        "    def setup_model(self):\n",
        "        # Load pretrained ResNet50\n",
        "        model = models.resnet50(pretrained=True)\n",
        "\n",
        "        # Strategy 1: Freeze all layers and only train the new classification head\n",
        "        if self.strategy_name == 'freeze_all_except_last':\n",
        "            # Freeze all parameters in the model\n",
        "            for param in model.parameters():\n",
        "                param.requires_grad = False\n",
        "\n",
        "            # Replace the final fully connected layer for 10 classes\n",
        "            num_features = model.fc.in_features\n",
        "            model.fc = nn.Linear(num_features, 10)\n",
        "\n",
        "        # Strategy 2: Freeze only a certain number of early layers\n",
        "        # elif self.strategy_name == 'freeze_early_layers':\n",
        "        #     # Freeze the first 6 layers (conv1, bn1, and 4 layer1 blocks)\n",
        "        #     layers_to_freeze = list(model.children())[:6]\n",
        "        #     for layer in layers_to_freeze:\n",
        "        #         for param in layer.parameters():\n",
        "        #             param.requires_grad = False\n",
        "\n",
        "        #     # Replace final FC layer\n",
        "        #     num_features = model.fc.in_features\n",
        "        #     model.fc = nn.Linear(num_features, 10)\n",
        "        # Strategy 2: Freeze only a certain number of early layers\n",
        "        elif self.strategy_name == 'freeze_early_layers':\n",
        "            # Get all layers in the model\n",
        "            all_layers = list(model.children())\n",
        "\n",
        "            # Freeze the first 20 layers instead of just 6\n",
        "            # ResNet50 has a more complex structure with nested layers\n",
        "            # To freeze approximately 20 layers, we need to go deeper into the model structure\n",
        "\n",
        "            # First, freeze the initial layers (conv1, bn1, relu, maxpool)\n",
        "            for layer in all_layers[:4]:\n",
        "                for param in layer.parameters():\n",
        "                    param.requires_grad = False\n",
        "\n",
        "            # Then freeze layers in layer1, layer2, layer3 (these are sequential blocks that contain multiple layers each)\n",
        "            for block_idx in range(4, 7):  # This targets layer1, layer2, layer3\n",
        "                block = all_layers[block_idx]\n",
        "                for sublayer in block:  # Each block contains multiple bottleneck/basic blocks\n",
        "                    for param in sublayer.parameters():\n",
        "                        param.requires_grad = False\n",
        "\n",
        "            # Replace final FC layer\n",
        "            num_features = model.fc.in_features\n",
        "            model.fc = nn.Linear(num_features, 10)\n",
        "\n",
        "        # Strategy 3: Progressive unfreezing (initially freeze all, then gradually unfreeze)\n",
        "        elif self.strategy_name == 'progressive_unfreeze':\n",
        "            # Initially freeze all layers\n",
        "            for param in model.parameters():\n",
        "                param.requires_grad = False\n",
        "\n",
        "            # Replace final FC layer\n",
        "            num_features = model.fc.in_features\n",
        "            model.fc = nn.Linear(num_features, 10)\n",
        "\n",
        "            # Note: We'll unfreeze progressively during training\n",
        "            self.model_layers = list(model.children())\n",
        "\n",
        "        # Strategy 4: Use lower learning rate for pretrained layers and higher for new layers\n",
        "        elif self.strategy_name == 'differential_learning_rates':\n",
        "            # Replace final FC layer\n",
        "            num_features = model.fc.in_features\n",
        "            model.fc = nn.Linear(num_features, 10)\n",
        "\n",
        "            # All parameters will be trainable but with different learning rates\n",
        "            # We'll handle this in the optimizer setup\n",
        "\n",
        "        # Strategy 5: Full fine-tuning (train all parameters, no freezing)\n",
        "        else:\n",
        "            # Replace final FC layer\n",
        "            num_features = model.fc.in_features\n",
        "            model.fc = nn.Linear(num_features, 10)\n",
        "            # No freezing - all parameters will be trained\n",
        "\n",
        "        return model.to(device)\n",
        "\n",
        "    def get_param_groups(self, model, base_lr=0.001):\n",
        "        \"\"\"For differential learning rates strategy\"\"\"\n",
        "        if self.strategy_name == 'differential_learning_rates':\n",
        "            # Group parameters: pretrained layers get lower lr, new layers get higher lr\n",
        "            pretrained_params = []\n",
        "            new_params = []\n",
        "\n",
        "            for name, param in model.named_parameters():\n",
        "                if 'fc' in name:  # New layer parameters\n",
        "                    new_params.append(param)\n",
        "                else:  # Pretrained layer parameters\n",
        "                    pretrained_params.append(param)\n",
        "\n",
        "            param_groups = [\n",
        "                {'params': pretrained_params, 'lr': base_lr * 0.1},  # Lower LR for pretrained\n",
        "                {'params': new_params, 'lr': base_lr}                # Higher LR for new\n",
        "            ]\n",
        "            return param_groups\n",
        "        else:\n",
        "            return model.parameters()\n",
        "\n",
        "    def progressive_unfreeze_step(self, model, current_epoch, total_epochs):\n",
        "        \"\"\"For progressive unfreezing strategy\"\"\"\n",
        "        if self.strategy_name == 'progressive_unfreeze' and current_epoch > 0:\n",
        "            # Calculate how many layers to unfreeze based on current epoch\n",
        "            # Unfreeze from back to front (deep to shallow)\n",
        "            layers_to_unfreeze = int((current_epoch / total_epochs) * len(self.model_layers))\n",
        "\n",
        "            # Start unfreezing from the end (excluding the FC layer which is always trainable)\n",
        "            for i in range(len(self.model_layers) - 1, len(self.model_layers) - 1 - layers_to_unfreeze, -1):\n",
        "                if i >= 0:\n",
        "                    for param in self.model_layers[i].parameters():\n",
        "                        param.requires_grad = True\n",
        "\n",
        "# Choosing one of the fine-tuning strategies\n",
        "# 'freeze_all_except_last', 'freeze_early_layers', 'progressive_unfreeze', 'differential_learning_rates', 'full'\n",
        "\n",
        "# chosen_strategy = 'freeze_all_except_last'\n",
        "chosen_strategy = 'freeze_early_layers'\n",
        "model_strategy = ModelStrategy(chosen_strategy)\n",
        "model = model_strategy.setup_model()\n",
        "\n",
        "# Print model summary\n",
        "total_params = sum(p.numel() for p in model.parameters())\n",
        "trainable_params = sum(p.numel() for p in model.parameters() if p.requires_grad)\n",
        "print(f\"Total parameters: {total_params:,}\")\n",
        "print(f\"Trainable parameters: {trainable_params:,}\")\n",
        "print(f\"Fixed parameters: {total_params - trainable_params:,}\")\n",
        "print(f\"Strategy used: {chosen_strategy}\")"
      ],
      "metadata": {
        "colab": {
          "base_uri": "https://localhost:8080/"
        },
        "id": "ejDriaQ0F-Q0",
        "outputId": "729466c7-b998-476a-ebd5-62ff1bbab2e0"
      },
      "execution_count": null,
      "outputs": [
        {
          "output_type": "stream",
          "name": "stdout",
          "text": [
            "Total parameters: 23,528,522\n",
            "Trainable parameters: 14,985,226\n",
            "Fixed parameters: 8,543,296\n",
            "Strategy used: freeze_early_layers\n"
          ]
        }
      ]
    },
    {
      "cell_type": "code",
      "source": [
        "# Training and evaluation functions\n",
        "import matplotlib.pyplot as plt\n",
        "\n",
        "def train_model(model, dataloaders, criterion, optimizer, num_epochs=10, strategy=None):\n",
        "    \"\"\"Train the model with the given dataloaders, criterion, and optimizer\"\"\"\n",
        "    train_losses = []\n",
        "    val_losses = []\n",
        "    train_accs = []\n",
        "    val_accs = []\n",
        "    best_acc = 0.0\n",
        "\n",
        "    # Initialize wandb for tracking experiments\n",
        "    wandb.login()\n",
        "    wandb.init(project=\"DA6401_A2_PartA\", name=f\"ResNet50-{strategy.strategy_name}\")\n",
        "    wandb.config.update({\n",
        "        \"model\": \"ResNet50\",\n",
        "        \"strategy\": strategy.strategy_name,\n",
        "        \"epochs\": num_epochs\n",
        "    })\n",
        "\n",
        "    for epoch in range(num_epochs):\n",
        "        print(f'Epoch {epoch+1}/{num_epochs}')\n",
        "        print('-' * 10)\n",
        "\n",
        "        # Each epoch has a training and validation phase\n",
        "        for phase in ['train', 'val']:\n",
        "            if phase == 'train':\n",
        "                model.train()  # Set model to training mode\n",
        "                dataloader = dataloaders['train']\n",
        "\n",
        "                # For progressive unfreezing, update which layers are frozen\n",
        "                if strategy.strategy_name == 'progressive_unfreeze':\n",
        "                    strategy.progressive_unfreeze_step(model, epoch, num_epochs)\n",
        "\n",
        "                    # Log how many parameters are now trainable\n",
        "                    trainable_params = sum(p.numel() for p in model.parameters() if p.requires_grad)\n",
        "                    print(f\"Epoch {epoch+1}: Trainable parameters: {trainable_params:,}\")\n",
        "                    wandb.log({\"trainable_params\": trainable_params}, step=epoch)\n",
        "            else:\n",
        "                model.eval()   # Set model to evaluate mode\n",
        "                dataloader = dataloaders['val']\n",
        "\n",
        "            running_loss = 0.0\n",
        "            running_corrects = 0\n",
        "\n",
        "            # Iterate over data\n",
        "            for inputs, labels in tqdm(dataloader, desc=phase):\n",
        "                inputs = inputs.to(device)\n",
        "                labels = labels.to(device)\n",
        "\n",
        "                # Zero the parameter gradients\n",
        "                optimizer.zero_grad()\n",
        "\n",
        "                # Forward pass - only track history in train\n",
        "                with torch.set_grad_enabled(phase == 'train'):\n",
        "                    outputs = model(inputs)\n",
        "                    _, preds = torch.max(outputs, 1)\n",
        "                    loss = criterion(outputs, labels)\n",
        "\n",
        "                    # Backward + optimize only in training phase\n",
        "                    if phase == 'train':\n",
        "                        loss.backward()\n",
        "                        optimizer.step()\n",
        "\n",
        "                # Statistics\n",
        "                running_loss += loss.item() * inputs.size(0)\n",
        "                running_corrects += torch.sum(preds == labels.data)\n",
        "\n",
        "            epoch_loss = running_loss / len(dataloader.dataset)\n",
        "            epoch_acc = running_corrects.double() / len(dataloader.dataset)\n",
        "\n",
        "            print(f'{phase} Loss: {epoch_loss:.4f} Acc: {epoch_acc:.4f}')\n",
        "\n",
        "            # Log metrics to wandb\n",
        "            wandb.log({f\"{phase}_loss\": epoch_loss,\n",
        "                       f\"{phase}_accuracy\": epoch_acc}, step=epoch)\n",
        "\n",
        "            # Track metrics\n",
        "            if phase == 'train':\n",
        "                train_losses.append(epoch_loss)\n",
        "                train_accs.append(epoch_acc.item())\n",
        "            else:\n",
        "                val_losses.append(epoch_loss)\n",
        "                val_accs.append(epoch_acc.item())\n",
        "\n",
        "                # Save the best model\n",
        "                if epoch_acc > best_acc:\n",
        "                    best_acc = epoch_acc\n",
        "                    torch.save(model.state_dict(), f'best_model_{strategy.strategy_name}.pth')\n",
        "                    print(f'New best validation accuracy: {best_acc:.4f}')\n",
        "\n",
        "    wandb.finish()\n",
        "    print(f'Best validation Acc: {best_acc:.4f}')\n",
        "\n",
        "    return model, train_losses, val_losses, train_accs, val_accs\n",
        "\n",
        "def evaluate_model(model, dataloader):\n",
        "    \"\"\"Evaluate the model on the given dataloader\"\"\"\n",
        "    model.eval()\n",
        "    running_corrects = 0\n",
        "\n",
        "    with torch.no_grad():\n",
        "        for inputs, labels in tqdm(dataloader, desc='Evaluating'):\n",
        "            inputs = inputs.to(device)\n",
        "            labels = labels.to(device)\n",
        "\n",
        "            outputs = model(inputs)\n",
        "            _, preds = torch.max(outputs, 1)\n",
        "\n",
        "            running_corrects += torch.sum(preds == labels.data)\n",
        "\n",
        "    acc = running_corrects.double() / len(dataloader.dataset)\n",
        "    print(f'Test Accuracy: {acc:.4f}')\n",
        "\n",
        "    return acc.item()"
      ],
      "metadata": {
        "id": "ughfi1nv1dHg"
      },
      "execution_count": null,
      "outputs": []
    },
    {
      "cell_type": "code",
      "source": [
        "# Initialize criterion and optimizer\n",
        "criterion = nn.CrossEntropyLoss()\n",
        "\n",
        "# Get parameter groups (for differential learning rates if needed)\n",
        "param_groups = model_strategy.get_param_groups(model, base_lr=0.001)\n",
        "\n",
        "# Choose optimizer\n",
        "if chosen_strategy == 'differential_learning_rates':\n",
        "    # For this strategy,parameter groups with different learning rates has been created\n",
        "    optimizer = optim.Adam(param_groups, weight_decay=0.0001)\n",
        "else:\n",
        "    optimizer = optim.Adam(param_groups, lr=0.001, weight_decay=0.0001)\n",
        "\n",
        "# Prepare dataloaders dictionary\n",
        "dataloaders = {\n",
        "    'train': train_loader,\n",
        "    'val': val_loader,\n",
        "    'test': test_loader\n",
        "}\n",
        "\n",
        "# Train the model\n",
        "model, train_losses, val_losses, train_accs, val_accs = train_model(\n",
        "    model,\n",
        "    dataloaders,\n",
        "    criterion,\n",
        "    optimizer,\n",
        "    num_epochs=10,\n",
        "    strategy=model_strategy\n",
        ")\n",
        "\n",
        "# plotting after training is complete\n",
        "try:\n",
        "    import matplotlib.pyplot as plt\n",
        "\n",
        "    # Plot training history\n",
        "    plt.figure(figsize=(12, 5))\n",
        "    plt.subplot(1, 2, 1)\n",
        "    plt.plot(train_losses, label='Train')\n",
        "    plt.plot(val_losses, label='Validation')\n",
        "    plt.title('Loss')\n",
        "    plt.legend()\n",
        "\n",
        "    plt.subplot(1, 2, 2)\n",
        "    plt.plot(train_accs, label='Train')\n",
        "    plt.plot(val_accs, label='Validation')\n",
        "    plt.title('Accuracy')\n",
        "    plt.legend()\n",
        "    plt.tight_layout()\n",
        "    plt.show()\n",
        "except Exception as e:\n",
        "    print(f\"Could not create plots: {e}\")\n",
        "    print(\"Continuing without plotting...\")\n",
        "\n",
        "# Evaluate the best model on test data\n",
        "print(\"\\nEvaluating best model on test data...\")\n",
        "model.load_state_dict(torch.load(f'best_model_{chosen_strategy}.pth'))\n",
        "test_acc = evaluate_model(model, test_loader)\n",
        "print(f\"Final test accuracy: {test_acc:.4f}\")"
      ],
      "metadata": {
        "colab": {
          "base_uri": "https://localhost:8080/",
          "height": 1000
        },
        "id": "6SrXHGA_1dJ7",
        "outputId": "1a80974a-3710-4547-a52e-18ab62928321"
      },
      "execution_count": null,
      "outputs": [
        {
          "output_type": "display_data",
          "data": {
            "text/plain": [
              "<IPython.core.display.HTML object>"
            ],
            "text/html": [
              "Tracking run with wandb version 0.19.9"
            ]
          },
          "metadata": {}
        },
        {
          "output_type": "display_data",
          "data": {
            "text/plain": [
              "<IPython.core.display.HTML object>"
            ],
            "text/html": [
              "Run data is saved locally in <code>/content/wandb/run-20250419_124935-a9qr5740</code>"
            ]
          },
          "metadata": {}
        },
        {
          "output_type": "display_data",
          "data": {
            "text/plain": [
              "<IPython.core.display.HTML object>"
            ],
            "text/html": [
              "Syncing run <strong><a href='https://wandb.ai/da24m002-indian-institute-of-technology-madras/DA6401_A2_PartA/runs/a9qr5740' target=\"_blank\">ResNet50-freeze_early_layers</a></strong> to <a href='https://wandb.ai/da24m002-indian-institute-of-technology-madras/DA6401_A2_PartA' target=\"_blank\">Weights & Biases</a> (<a href='https://wandb.me/developer-guide' target=\"_blank\">docs</a>)<br>"
            ]
          },
          "metadata": {}
        },
        {
          "output_type": "display_data",
          "data": {
            "text/plain": [
              "<IPython.core.display.HTML object>"
            ],
            "text/html": [
              " View project at <a href='https://wandb.ai/da24m002-indian-institute-of-technology-madras/DA6401_A2_PartA' target=\"_blank\">https://wandb.ai/da24m002-indian-institute-of-technology-madras/DA6401_A2_PartA</a>"
            ]
          },
          "metadata": {}
        },
        {
          "output_type": "display_data",
          "data": {
            "text/plain": [
              "<IPython.core.display.HTML object>"
            ],
            "text/html": [
              " View run at <a href='https://wandb.ai/da24m002-indian-institute-of-technology-madras/DA6401_A2_PartA/runs/a9qr5740' target=\"_blank\">https://wandb.ai/da24m002-indian-institute-of-technology-madras/DA6401_A2_PartA/runs/a9qr5740</a>"
            ]
          },
          "metadata": {}
        },
        {
          "output_type": "stream",
          "name": "stdout",
          "text": [
            "Epoch 1/10\n",
            "----------\n"
          ]
        },
        {
          "output_type": "stream",
          "name": "stderr",
          "text": [
            "train: 100%|██████████| 250/250 [01:27<00:00,  2.86it/s]\n"
          ]
        },
        {
          "output_type": "stream",
          "name": "stdout",
          "text": [
            "train Loss: 1.1954 Acc: 0.6068\n"
          ]
        },
        {
          "output_type": "stream",
          "name": "stderr",
          "text": [
            "val: 100%|██████████| 63/63 [00:21<00:00,  2.92it/s]\n"
          ]
        },
        {
          "output_type": "stream",
          "name": "stdout",
          "text": [
            "val Loss: 0.9864 Acc: 0.6780\n",
            "New best validation accuracy: 0.6780\n",
            "Epoch 2/10\n",
            "----------\n"
          ]
        },
        {
          "output_type": "stream",
          "name": "stderr",
          "text": [
            "train: 100%|██████████| 250/250 [01:24<00:00,  2.95it/s]\n"
          ]
        },
        {
          "output_type": "stream",
          "name": "stdout",
          "text": [
            "train Loss: 0.7852 Acc: 0.7371\n"
          ]
        },
        {
          "output_type": "stream",
          "name": "stderr",
          "text": [
            "val: 100%|██████████| 63/63 [00:21<00:00,  2.94it/s]\n"
          ]
        },
        {
          "output_type": "stream",
          "name": "stdout",
          "text": [
            "val Loss: 0.8612 Acc: 0.7285\n",
            "New best validation accuracy: 0.7285\n",
            "Epoch 3/10\n",
            "----------\n"
          ]
        },
        {
          "output_type": "stream",
          "name": "stderr",
          "text": [
            "train: 100%|██████████| 250/250 [01:26<00:00,  2.88it/s]\n"
          ]
        },
        {
          "output_type": "stream",
          "name": "stdout",
          "text": [
            "train Loss: 0.5579 Acc: 0.8149\n"
          ]
        },
        {
          "output_type": "stream",
          "name": "stderr",
          "text": [
            "val: 100%|██████████| 63/63 [00:21<00:00,  2.95it/s]\n"
          ]
        },
        {
          "output_type": "stream",
          "name": "stdout",
          "text": [
            "val Loss: 0.9106 Acc: 0.7205\n",
            "Epoch 4/10\n",
            "----------\n"
          ]
        },
        {
          "output_type": "stream",
          "name": "stderr",
          "text": [
            "train: 100%|██████████| 250/250 [01:25<00:00,  2.92it/s]\n"
          ]
        },
        {
          "output_type": "stream",
          "name": "stdout",
          "text": [
            "train Loss: 0.3911 Acc: 0.8730\n"
          ]
        },
        {
          "output_type": "stream",
          "name": "stderr",
          "text": [
            "val: 100%|██████████| 63/63 [00:22<00:00,  2.77it/s]\n"
          ]
        },
        {
          "output_type": "stream",
          "name": "stdout",
          "text": [
            "val Loss: 0.9660 Acc: 0.7070\n",
            "Epoch 5/10\n",
            "----------\n"
          ]
        },
        {
          "output_type": "stream",
          "name": "stderr",
          "text": [
            "train: 100%|██████████| 250/250 [01:26<00:00,  2.88it/s]\n"
          ]
        },
        {
          "output_type": "stream",
          "name": "stdout",
          "text": [
            "train Loss: 0.2826 Acc: 0.9056\n"
          ]
        },
        {
          "output_type": "stream",
          "name": "stderr",
          "text": [
            "val: 100%|██████████| 63/63 [00:21<00:00,  2.96it/s]\n"
          ]
        },
        {
          "output_type": "stream",
          "name": "stdout",
          "text": [
            "val Loss: 1.1712 Acc: 0.7055\n",
            "Epoch 6/10\n",
            "----------\n"
          ]
        },
        {
          "output_type": "stream",
          "name": "stderr",
          "text": [
            "train: 100%|██████████| 250/250 [01:27<00:00,  2.87it/s]\n"
          ]
        },
        {
          "output_type": "stream",
          "name": "stdout",
          "text": [
            "train Loss: 0.2050 Acc: 0.9360\n"
          ]
        },
        {
          "output_type": "stream",
          "name": "stderr",
          "text": [
            "val: 100%|██████████| 63/63 [00:21<00:00,  2.98it/s]\n"
          ]
        },
        {
          "output_type": "stream",
          "name": "stdout",
          "text": [
            "val Loss: 1.0067 Acc: 0.7225\n",
            "Epoch 7/10\n",
            "----------\n"
          ]
        },
        {
          "output_type": "stream",
          "name": "stderr",
          "text": [
            "train: 100%|██████████| 250/250 [01:25<00:00,  2.92it/s]\n"
          ]
        },
        {
          "output_type": "stream",
          "name": "stdout",
          "text": [
            "train Loss: 0.1526 Acc: 0.9491\n"
          ]
        },
        {
          "output_type": "stream",
          "name": "stderr",
          "text": [
            "val: 100%|██████████| 63/63 [00:20<00:00,  3.10it/s]\n"
          ]
        },
        {
          "output_type": "stream",
          "name": "stdout",
          "text": [
            "val Loss: 1.2400 Acc: 0.6975\n",
            "Epoch 8/10\n",
            "----------\n"
          ]
        },
        {
          "output_type": "stream",
          "name": "stderr",
          "text": [
            "train: 100%|██████████| 250/250 [01:28<00:00,  2.84it/s]\n"
          ]
        },
        {
          "output_type": "stream",
          "name": "stdout",
          "text": [
            "train Loss: 0.1511 Acc: 0.9532\n"
          ]
        },
        {
          "output_type": "stream",
          "name": "stderr",
          "text": [
            "val: 100%|██████████| 63/63 [00:20<00:00,  3.13it/s]\n"
          ]
        },
        {
          "output_type": "stream",
          "name": "stdout",
          "text": [
            "val Loss: 1.1448 Acc: 0.6990\n",
            "Epoch 9/10\n",
            "----------\n"
          ]
        },
        {
          "output_type": "stream",
          "name": "stderr",
          "text": [
            "train: 100%|██████████| 250/250 [01:26<00:00,  2.90it/s]\n"
          ]
        },
        {
          "output_type": "stream",
          "name": "stdout",
          "text": [
            "train Loss: 0.1164 Acc: 0.9654\n"
          ]
        },
        {
          "output_type": "stream",
          "name": "stderr",
          "text": [
            "val: 100%|██████████| 63/63 [00:19<00:00,  3.18it/s]\n"
          ]
        },
        {
          "output_type": "stream",
          "name": "stdout",
          "text": [
            "val Loss: 1.1385 Acc: 0.7315\n",
            "New best validation accuracy: 0.7315\n",
            "Epoch 10/10\n",
            "----------\n"
          ]
        },
        {
          "output_type": "stream",
          "name": "stderr",
          "text": [
            "train: 100%|██████████| 250/250 [01:28<00:00,  2.84it/s]\n"
          ]
        },
        {
          "output_type": "stream",
          "name": "stdout",
          "text": [
            "train Loss: 0.1288 Acc: 0.9619\n"
          ]
        },
        {
          "output_type": "stream",
          "name": "stderr",
          "text": [
            "val: 100%|██████████| 63/63 [00:19<00:00,  3.17it/s]"
          ]
        },
        {
          "output_type": "stream",
          "name": "stdout",
          "text": [
            "val Loss: 1.3122 Acc: 0.6935\n"
          ]
        },
        {
          "output_type": "stream",
          "name": "stderr",
          "text": [
            "\n"
          ]
        },
        {
          "output_type": "display_data",
          "data": {
            "text/plain": [
              "<IPython.core.display.HTML object>"
            ],
            "text/html": []
          },
          "metadata": {}
        },
        {
          "output_type": "display_data",
          "data": {
            "text/plain": [
              "<IPython.core.display.HTML object>"
            ],
            "text/html": [
              "<br>    <style><br>        .wandb-row {<br>            display: flex;<br>            flex-direction: row;<br>            flex-wrap: wrap;<br>            justify-content: flex-start;<br>            width: 100%;<br>        }<br>        .wandb-col {<br>            display: flex;<br>            flex-direction: column;<br>            flex-basis: 100%;<br>            flex: 1;<br>            padding: 10px;<br>        }<br>    </style><br><div class=\"wandb-row\"><div class=\"wandb-col\"><h3>Run history:</h3><br/><table class=\"wandb\"><tr><td>train_accuracy</td><td>▁▄▅▆▇▇████</td></tr><tr><td>train_loss</td><td>█▅▄▃▂▂▁▁▁▁</td></tr><tr><td>val_accuracy</td><td>▁█▇▅▅▇▄▄█▃</td></tr><tr><td>val_loss</td><td>▃▁▂▃▆▃▇▅▅█</td></tr></table><br/></div><div class=\"wandb-col\"><h3>Run summary:</h3><br/><table class=\"wandb\"><tr><td>train_accuracy</td><td>0.96187</td></tr><tr><td>train_loss</td><td>0.12882</td></tr><tr><td>val_accuracy</td><td>0.6935</td></tr><tr><td>val_loss</td><td>1.31217</td></tr></table><br/></div></div>"
            ]
          },
          "metadata": {}
        },
        {
          "output_type": "display_data",
          "data": {
            "text/plain": [
              "<IPython.core.display.HTML object>"
            ],
            "text/html": [
              " View run <strong style=\"color:#cdcd00\">ResNet50-freeze_early_layers</strong> at: <a href='https://wandb.ai/da24m002-indian-institute-of-technology-madras/DA6401_A2_PartA/runs/a9qr5740' target=\"_blank\">https://wandb.ai/da24m002-indian-institute-of-technology-madras/DA6401_A2_PartA/runs/a9qr5740</a><br> View project at: <a href='https://wandb.ai/da24m002-indian-institute-of-technology-madras/DA6401_A2_PartA' target=\"_blank\">https://wandb.ai/da24m002-indian-institute-of-technology-madras/DA6401_A2_PartA</a><br>Synced 5 W&B file(s), 0 media file(s), 0 artifact file(s) and 0 other file(s)"
            ]
          },
          "metadata": {}
        },
        {
          "output_type": "display_data",
          "data": {
            "text/plain": [
              "<IPython.core.display.HTML object>"
            ],
            "text/html": [
              "Find logs at: <code>./wandb/run-20250419_124935-a9qr5740/logs</code>"
            ]
          },
          "metadata": {}
        },
        {
          "output_type": "stream",
          "name": "stdout",
          "text": [
            "Best validation Acc: 0.7315\n"
          ]
        },
        {
          "output_type": "display_data",
          "data": {
            "text/plain": [
              "<Figure size 1200x500 with 2 Axes>"
            ],
            "image/png": "[encoded data removed]"
          },
          "metadata": {}
        },
        {
          "output_type": "stream",
          "name": "stdout",
          "text": [
            "\n",
            "Evaluating best model on test data...\n"
          ]
        },
        {
          "output_type": "stream",
          "name": "stderr",
          "text": [
            "Evaluating: 100%|██████████| 63/63 [00:20<00:00,  3.10it/s]"
          ]
        },
        {
          "output_type": "stream",
          "name": "stdout",
          "text": [
            "Test Accuracy: 0.7445\n",
            "Final test accuracy: 0.7445\n"
          ]
        },
        {
          "output_type": "stream",
          "name": "stderr",
          "text": [
            "\n"
          ]
        }
      ]
    },
    {
      "cell_type": "code",
      "source": [
        "\n",
        "# Analysis of fine-tuning strategies and comparison with training from scratch\n",
        "# This cell compares the chosen fine-tuning strategy with a model trained from scratch\n",
        "\n",
        "print(\"Fine-Tuning vs Training from Scratch Analysis\")\n",
        "\n",
        "# Function to create a model from scratch (similar architecture but not using ImageNet weights)\n",
        "def create_scratch_model():\n",
        "    # Create a ResNet50 without pretrained weights\n",
        "    model = models.resnet50(pretrained=False)\n",
        "    # Modify final layer for 10 classes\n",
        "    num_features = model.fc.in_features\n",
        "    model.fc = nn.Linear(num_features, 10)\n",
        "    return model.to(device)\n",
        "\n",
        "# Initialize a model from scratch\n",
        "scratch_model = create_scratch_model()\n",
        "\n",
        "# Set up optimizer for training from scratch\n",
        "scratch_optimizer = optim.Adam(scratch_model.parameters(), lr=0.001, weight_decay=0.0001)\n",
        "\n",
        "# Train the scratch model (using same training setup)\n",
        "print(\"\\nTraining model from scratch...\")\n",
        "wandb.init(project=\"DA6401_A2_PartA\", name=\"ResNet50-from-scratch\")\n",
        "wandb.config.update({\n",
        "    \"model\": \"ResNet50\",\n",
        "    \"strategy\": \"from-scratch\",\n",
        "    \"epochs\": 2\n",
        "})\n",
        "\n",
        "# We'll train the scratch model for the same number of epochs\n",
        "scratch_model, s_train_losses, s_val_losses, s_train_accs, s_val_accs = train_model(\n",
        "    scratch_model,\n",
        "    dataloaders,\n",
        "    criterion,\n",
        "    scratch_optimizer,\n",
        "    num_epochs=10,\n",
        "    strategy=ModelStrategy(\"from-scratch\")  # Just for logging\n",
        ")\n",
        "\n",
        "# Evaluate the best scratch model\n",
        "scratch_model.load_state_dict(torch.load('best_model_from-scratch.pth'))\n",
        "scratch_test_acc = evaluate_model(scratch_model, test_loader)\n",
        "\n",
        "# Compare results\n",
        "print(\"\\n=== Comparison of Results ===\")\n",
        "print(f\"Fine-tuned model ({chosen_strategy}) test accuracy: {test_acc:.4f}\")\n",
        "print(f\"Model trained from scratch test accuracy: {scratch_test_acc:.4f}\")\n",
        "\n",
        "# Plot comparison of validation accuracies\n",
        "plt.figure(figsize=(10, 6))\n",
        "plt.plot(val_accs, 'b-', label=f'Fine-tuned ({chosen_strategy})')\n",
        "plt.plot(s_val_accs, 'r-', label='From scratch')\n",
        "plt.title('Validation Accuracy Comparison')\n",
        "plt.xlabel('Epochs')\n",
        "plt.ylabel('Accuracy')\n",
        "plt.legend()\n",
        "plt.grid(True)\n",
        "plt.show()\n"
      ],
      "metadata": {
        "colab": {
          "base_uri": "https://localhost:8080/",
          "height": 1000
        },
        "id": "yQMpqCYTIgxm",
        "outputId": "dda344a0-eeee-4fed-cf94-5ad7d8e26dc3"
      },
      "execution_count": null,
      "outputs": [
        {
          "output_type": "stream",
          "name": "stdout",
          "text": [
            "Fine-Tuning vs Training from Scratch Analysis\n",
            "\n",
            "Training model from scratch...\n"
          ]
        },
        {
          "output_type": "display_data",
          "data": {
            "text/plain": [
              "<IPython.core.display.HTML object>"
            ],
            "text/html": []
          },
          "metadata": {}
        },
        {
          "output_type": "display_data",
          "data": {
            "text/plain": [
              "<IPython.core.display.HTML object>"
            ],
            "text/html": [
              " View run <strong style=\"color:#cdcd00\">ResNet50-from-scratch</strong> at: <a href='https://wandb.ai/da24m002-indian-institute-of-technology-madras/DA6401_A2_PartA/runs/5fofykpr' target=\"_blank\">https://wandb.ai/da24m002-indian-institute-of-technology-madras/DA6401_A2_PartA/runs/5fofykpr</a><br> View project at: <a href='https://wandb.ai/da24m002-indian-institute-of-technology-madras/DA6401_A2_PartA' target=\"_blank\">https://wandb.ai/da24m002-indian-institute-of-technology-madras/DA6401_A2_PartA</a><br>Synced 5 W&B file(s), 0 media file(s), 0 artifact file(s) and 0 other file(s)"
            ]
          },
          "metadata": {}
        },
        {
          "output_type": "display_data",
          "data": {
            "text/plain": [
              "<IPython.core.display.HTML object>"
            ],
            "text/html": [
              "Find logs at: <code>./wandb/run-20250419_130900-5fofykpr/logs</code>"
            ]
          },
          "metadata": {}
        },
        {
          "output_type": "display_data",
          "data": {
            "text/plain": [
              "<IPython.core.display.HTML object>"
            ],
            "text/html": [
              "Tracking run with wandb version 0.19.9"
            ]
          },
          "metadata": {}
        },
        {
          "output_type": "display_data",
          "data": {
            "text/plain": [
              "<IPython.core.display.HTML object>"
            ],
            "text/html": [
              "Run data is saved locally in <code>/content/wandb/run-20250419_130929-rlz3ials</code>"
            ]
          },
          "metadata": {}
        },
        {
          "output_type": "display_data",
          "data": {
            "text/plain": [
              "<IPython.core.display.HTML object>"
            ],
            "text/html": [
              "Syncing run <strong><a href='https://wandb.ai/da24m002-indian-institute-of-technology-madras/DA6401_A2_PartA/runs/rlz3ials' target=\"_blank\">ResNet50-from-scratch</a></strong> to <a href='https://wandb.ai/da24m002-indian-institute-of-technology-madras/DA6401_A2_PartA' target=\"_blank\">Weights & Biases</a> (<a href='https://wandb.me/developer-guide' target=\"_blank\">docs</a>)<br>"
            ]
          },
          "metadata": {}
        },
        {
          "output_type": "display_data",
          "data": {
            "text/plain": [
              "<IPython.core.display.HTML object>"
            ],
            "text/html": [
              " View project at <a href='https://wandb.ai/da24m002-indian-institute-of-technology-madras/DA6401_A2_PartA' target=\"_blank\">https://wandb.ai/da24m002-indian-institute-of-technology-madras/DA6401_A2_PartA</a>"
            ]
          },
          "metadata": {}
        },
        {
          "output_type": "display_data",
          "data": {
            "text/plain": [
              "<IPython.core.display.HTML object>"
            ],
            "text/html": [
              " View run at <a href='https://wandb.ai/da24m002-indian-institute-of-technology-madras/DA6401_A2_PartA/runs/rlz3ials' target=\"_blank\">https://wandb.ai/da24m002-indian-institute-of-technology-madras/DA6401_A2_PartA/runs/rlz3ials</a>"
            ]
          },
          "metadata": {}
        },
        {
          "output_type": "stream",
          "name": "stderr",
          "text": [
            "\u001b[34m\u001b[1mwandb\u001b[0m: \u001b[33mWARNING\u001b[0m Calling wandb.login() after wandb.init() has no effect.\n"
          ]
        },
        {
          "output_type": "display_data",
          "data": {
            "text/plain": [
              "<IPython.core.display.HTML object>"
            ],
            "text/html": []
          },
          "metadata": {}
        },
        {
          "output_type": "display_data",
          "data": {
            "text/plain": [
              "<IPython.core.display.HTML object>"
            ],
            "text/html": [
              " View run <strong style=\"color:#cdcd00\">ResNet50-from-scratch</strong> at: <a href='https://wandb.ai/da24m002-indian-institute-of-technology-madras/DA6401_A2_PartA/runs/rlz3ials' target=\"_blank\">https://wandb.ai/da24m002-indian-institute-of-technology-madras/DA6401_A2_PartA/runs/rlz3ials</a><br> View project at: <a href='https://wandb.ai/da24m002-indian-institute-of-technology-madras/DA6401_A2_PartA' target=\"_blank\">https://wandb.ai/da24m002-indian-institute-of-technology-madras/DA6401_A2_PartA</a><br>Synced 5 W&B file(s), 0 media file(s), 0 artifact file(s) and 0 other file(s)"
            ]
          },
          "metadata": {}
        },
        {
          "output_type": "display_data",
          "data": {
            "text/plain": [
              "<IPython.core.display.HTML object>"
            ],
            "text/html": [
              "Find logs at: <code>./wandb/run-20250419_130929-rlz3ials/logs</code>"
            ]
          },
          "metadata": {}
        },
        {
          "output_type": "display_data",
          "data": {
            "text/plain": [
              "<IPython.core.display.HTML object>"
            ],
            "text/html": [
              "Tracking run with wandb version 0.19.9"
            ]
          },
          "metadata": {}
        },
        {
          "output_type": "display_data",
          "data": {
            "text/plain": [
              "<IPython.core.display.HTML object>"
            ],
            "text/html": [
              "Run data is saved locally in <code>/content/wandb/run-20250419_130930-kgsfq838</code>"
            ]
          },
          "metadata": {}
        },
        {
          "output_type": "display_data",
          "data": {
            "text/plain": [
              "<IPython.core.display.HTML object>"
            ],
            "text/html": [
              "Syncing run <strong><a href='https://wandb.ai/da24m002-indian-institute-of-technology-madras/DA6401_A2_PartA/runs/kgsfq838' target=\"_blank\">ResNet50-from-scratch</a></strong> to <a href='https://wandb.ai/da24m002-indian-institute-of-technology-madras/DA6401_A2_PartA' target=\"_blank\">Weights & Biases</a> (<a href='https://wandb.me/developer-guide' target=\"_blank\">docs</a>)<br>"
            ]
          },
          "metadata": {}
        },
        {
          "output_type": "display_data",
          "data": {
            "text/plain": [
              "<IPython.core.display.HTML object>"
            ],
            "text/html": [
              " View project at <a href='https://wandb.ai/da24m002-indian-institute-of-technology-madras/DA6401_A2_PartA' target=\"_blank\">https://wandb.ai/da24m002-indian-institute-of-technology-madras/DA6401_A2_PartA</a>"
            ]
          },
          "metadata": {}
        },
        {
          "output_type": "display_data",
          "data": {
            "text/plain": [
              "<IPython.core.display.HTML object>"
            ],
            "text/html": [
              " View run at <a href='https://wandb.ai/da24m002-indian-institute-of-technology-madras/DA6401_A2_PartA/runs/kgsfq838' target=\"_blank\">https://wandb.ai/da24m002-indian-institute-of-technology-madras/DA6401_A2_PartA/runs/kgsfq838</a>"
            ]
          },
          "metadata": {}
        },
        {
          "output_type": "stream",
          "name": "stdout",
          "text": [
            "Epoch 1/10\n",
            "----------\n"
          ]
        },
        {
          "output_type": "stream",
          "name": "stderr",
          "text": [
            "train: 100%|██████████| 250/250 [01:40<00:00,  2.48it/s]\n"
          ]
        },
        {
          "output_type": "stream",
          "name": "stdout",
          "text": [
            "train Loss: 2.3119 Acc: 0.1874\n"
          ]
        },
        {
          "output_type": "stream",
          "name": "stderr",
          "text": [
            "val: 100%|██████████| 63/63 [00:20<00:00,  3.00it/s]\n"
          ]
        },
        {
          "output_type": "stream",
          "name": "stdout",
          "text": [
            "val Loss: 2.2675 Acc: 0.2110\n",
            "New best validation accuracy: 0.2110\n",
            "Epoch 2/10\n",
            "----------\n"
          ]
        },
        {
          "output_type": "stream",
          "name": "stderr",
          "text": [
            "train: 100%|██████████| 250/250 [01:42<00:00,  2.43it/s]\n"
          ]
        },
        {
          "output_type": "stream",
          "name": "stdout",
          "text": [
            "train Loss: 2.1469 Acc: 0.2308\n"
          ]
        },
        {
          "output_type": "stream",
          "name": "stderr",
          "text": [
            "val: 100%|██████████| 63/63 [00:21<00:00,  2.89it/s]\n"
          ]
        },
        {
          "output_type": "stream",
          "name": "stdout",
          "text": [
            "val Loss: 2.1510 Acc: 0.2300\n",
            "New best validation accuracy: 0.2300\n",
            "Epoch 3/10\n",
            "----------\n"
          ]
        },
        {
          "output_type": "stream",
          "name": "stderr",
          "text": [
            "train: 100%|██████████| 250/250 [01:42<00:00,  2.44it/s]\n"
          ]
        },
        {
          "output_type": "stream",
          "name": "stdout",
          "text": [
            "train Loss: 2.1110 Acc: 0.2468\n"
          ]
        },
        {
          "output_type": "stream",
          "name": "stderr",
          "text": [
            "val: 100%|██████████| 63/63 [00:21<00:00,  2.95it/s]\n"
          ]
        },
        {
          "output_type": "stream",
          "name": "stdout",
          "text": [
            "val Loss: 2.0824 Acc: 0.2625\n",
            "New best validation accuracy: 0.2625\n",
            "Epoch 4/10\n",
            "----------\n"
          ]
        },
        {
          "output_type": "stream",
          "name": "stderr",
          "text": [
            "train: 100%|██████████| 250/250 [01:41<00:00,  2.48it/s]\n"
          ]
        },
        {
          "output_type": "stream",
          "name": "stdout",
          "text": [
            "train Loss: 2.0944 Acc: 0.2437\n"
          ]
        },
        {
          "output_type": "stream",
          "name": "stderr",
          "text": [
            "val: 100%|██████████| 63/63 [00:21<00:00,  2.91it/s]\n"
          ]
        },
        {
          "output_type": "stream",
          "name": "stdout",
          "text": [
            "val Loss: 2.1438 Acc: 0.2335\n",
            "Epoch 5/10\n",
            "----------\n"
          ]
        },
        {
          "output_type": "stream",
          "name": "stderr",
          "text": [
            "train: 100%|██████████| 250/250 [01:42<00:00,  2.45it/s]\n"
          ]
        },
        {
          "output_type": "stream",
          "name": "stdout",
          "text": [
            "train Loss: 2.0806 Acc: 0.2557\n"
          ]
        },
        {
          "output_type": "stream",
          "name": "stderr",
          "text": [
            "val: 100%|██████████| 63/63 [00:21<00:00,  2.95it/s]\n"
          ]
        },
        {
          "output_type": "stream",
          "name": "stdout",
          "text": [
            "val Loss: 2.1131 Acc: 0.2550\n",
            "Epoch 6/10\n",
            "----------\n"
          ]
        },
        {
          "output_type": "stream",
          "name": "stderr",
          "text": [
            "train: 100%|██████████| 250/250 [01:42<00:00,  2.43it/s]\n"
          ]
        },
        {
          "output_type": "stream",
          "name": "stdout",
          "text": [
            "train Loss: 2.0662 Acc: 0.2544\n"
          ]
        },
        {
          "output_type": "stream",
          "name": "stderr",
          "text": [
            "val: 100%|██████████| 63/63 [00:21<00:00,  2.95it/s]\n"
          ]
        },
        {
          "output_type": "stream",
          "name": "stdout",
          "text": [
            "val Loss: 2.0373 Acc: 0.2700\n",
            "New best validation accuracy: 0.2700\n",
            "Epoch 7/10\n",
            "----------\n"
          ]
        },
        {
          "output_type": "stream",
          "name": "stderr",
          "text": [
            "train: 100%|██████████| 250/250 [01:41<00:00,  2.47it/s]\n"
          ]
        },
        {
          "output_type": "stream",
          "name": "stdout",
          "text": [
            "train Loss: 2.0476 Acc: 0.2715\n"
          ]
        },
        {
          "output_type": "stream",
          "name": "stderr",
          "text": [
            "val: 100%|██████████| 63/63 [00:21<00:00,  2.92it/s]\n"
          ]
        },
        {
          "output_type": "stream",
          "name": "stdout",
          "text": [
            "val Loss: 1.9938 Acc: 0.2945\n",
            "New best validation accuracy: 0.2945\n",
            "Epoch 8/10\n",
            "----------\n"
          ]
        },
        {
          "output_type": "stream",
          "name": "stderr",
          "text": [
            "train: 100%|██████████| 250/250 [01:41<00:00,  2.46it/s]\n"
          ]
        },
        {
          "output_type": "stream",
          "name": "stdout",
          "text": [
            "train Loss: 2.0359 Acc: 0.2714\n"
          ]
        },
        {
          "output_type": "stream",
          "name": "stderr",
          "text": [
            "val: 100%|██████████| 63/63 [00:20<00:00,  3.00it/s]\n"
          ]
        },
        {
          "output_type": "stream",
          "name": "stdout",
          "text": [
            "val Loss: 2.0193 Acc: 0.2770\n",
            "Epoch 9/10\n",
            "----------\n"
          ]
        },
        {
          "output_type": "stream",
          "name": "stderr",
          "text": [
            "train: 100%|██████████| 250/250 [01:41<00:00,  2.47it/s]\n"
          ]
        },
        {
          "output_type": "stream",
          "name": "stdout",
          "text": [
            "train Loss: 2.0157 Acc: 0.2733\n"
          ]
        },
        {
          "output_type": "stream",
          "name": "stderr",
          "text": [
            "val: 100%|██████████| 63/63 [00:21<00:00,  2.92it/s]\n"
          ]
        },
        {
          "output_type": "stream",
          "name": "stdout",
          "text": [
            "val Loss: 2.3152 Acc: 0.2635\n",
            "Epoch 10/10\n",
            "----------\n"
          ]
        },
        {
          "output_type": "stream",
          "name": "stderr",
          "text": [
            "train: 100%|██████████| 250/250 [01:39<00:00,  2.50it/s]\n"
          ]
        },
        {
          "output_type": "stream",
          "name": "stdout",
          "text": [
            "train Loss: 2.0100 Acc: 0.2773\n"
          ]
        },
        {
          "output_type": "stream",
          "name": "stderr",
          "text": [
            "val: 100%|██████████| 63/63 [00:21<00:00,  2.95it/s]"
          ]
        },
        {
          "output_type": "stream",
          "name": "stdout",
          "text": [
            "val Loss: 2.0052 Acc: 0.2910\n"
          ]
        },
        {
          "output_type": "stream",
          "name": "stderr",
          "text": [
            "\n"
          ]
        },
        {
          "output_type": "display_data",
          "data": {
            "text/plain": [
              "<IPython.core.display.HTML object>"
            ],
            "text/html": []
          },
          "metadata": {}
        },
        {
          "output_type": "display_data",
          "data": {
            "text/plain": [
              "<IPython.core.display.HTML object>"
            ],
            "text/html": [
              "<br>    <style><br>        .wandb-row {<br>            display: flex;<br>            flex-direction: row;<br>            flex-wrap: wrap;<br>            justify-content: flex-start;<br>            width: 100%;<br>        }<br>        .wandb-col {<br>            display: flex;<br>            flex-direction: column;<br>            flex-basis: 100%;<br>            flex: 1;<br>            padding: 10px;<br>        }<br>    </style><br><div class=\"wandb-row\"><div class=\"wandb-col\"><h3>Run history:</h3><br/><table class=\"wandb\"><tr><td>train_accuracy</td><td>▁▄▆▅▆▆████</td></tr><tr><td>train_loss</td><td>█▄▃▃▃▂▂▂▁▁</td></tr><tr><td>val_accuracy</td><td>▁▃▅▃▅▆█▇▅█</td></tr><tr><td>val_loss</td><td>▇▄▃▄▄▂▁▂█▁</td></tr></table><br/></div><div class=\"wandb-col\"><h3>Run summary:</h3><br/><table class=\"wandb\"><tr><td>train_accuracy</td><td>0.27728</td></tr><tr><td>train_loss</td><td>2.00996</td></tr><tr><td>val_accuracy</td><td>0.291</td></tr><tr><td>val_loss</td><td>2.00523</td></tr></table><br/></div></div>"
            ]
          },
          "metadata": {}
        },
        {
          "output_type": "display_data",
          "data": {
            "text/plain": [
              "<IPython.core.display.HTML object>"
            ],
            "text/html": [
              " View run <strong style=\"color:#cdcd00\">ResNet50-from-scratch</strong> at: <a href='https://wandb.ai/da24m002-indian-institute-of-technology-madras/DA6401_A2_PartA/runs/kgsfq838' target=\"_blank\">https://wandb.ai/da24m002-indian-institute-of-technology-madras/DA6401_A2_PartA/runs/kgsfq838</a><br> View project at: <a href='https://wandb.ai/da24m002-indian-institute-of-technology-madras/DA6401_A2_PartA' target=\"_blank\">https://wandb.ai/da24m002-indian-institute-of-technology-madras/DA6401_A2_PartA</a><br>Synced 5 W&B file(s), 0 media file(s), 0 artifact file(s) and 0 other file(s)"
            ]
          },
          "metadata": {}
        },
        {
          "output_type": "display_data",
          "data": {
            "text/plain": [
              "<IPython.core.display.HTML object>"
            ],
            "text/html": [
              "Find logs at: <code>./wandb/run-20250419_130930-kgsfq838/logs</code>"
            ]
          },
          "metadata": {}
        },
        {
          "output_type": "stream",
          "name": "stdout",
          "text": [
            "Best validation Acc: 0.2945\n"
          ]
        },
        {
          "output_type": "stream",
          "name": "stderr",
          "text": [
            "Evaluating: 100%|██████████| 63/63 [00:18<00:00,  3.33it/s]"
          ]
        },
        {
          "output_type": "stream",
          "name": "stdout",
          "text": [
            "Test Accuracy: 0.2790\n",
            "\n",
            "=== Comparison of Results ===\n",
            "Fine-tuned model (freeze_early_layers) test accuracy: 0.7445\n",
            "Model trained from scratch test accuracy: 0.2790\n"
          ]
        },
        {
          "output_type": "stream",
          "name": "stderr",
          "text": [
            "\n"
          ]
        },
        {
          "output_type": "display_data",
          "data": {
            "text/plain": [
              "<Figure size 1000x600 with 1 Axes>"
            ],
            "image/png": "[encoded data removed]"
          },
          "metadata": {}
        }
      ]
    },
    {
      "cell_type": "markdown",
      "source": [],
      "metadata": {
        "id": "OYaACul-b1dV"
      }
    },
    {
      "cell_type": "code",
      "source": [],
      "metadata": {
        "id": "t9J5laKpU59u"
      },
      "execution_count": null,
      "outputs": []
    }
  ]
}